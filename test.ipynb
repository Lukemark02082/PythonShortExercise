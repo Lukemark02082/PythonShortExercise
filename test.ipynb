{
 "cells": [
  {
   "cell_type": "markdown",
   "metadata": {},
   "source": [
    "### Find Runner’s Average Race Time\n",
    "\n",
    "### Starter Kit:\n",
    "- [average_race_time.py]\n",
    "- [10k_racetimes.txt]\n",
    "\n",
    "### Objectives:\n",
    "1. **Complete get_rhines_times() function**: Returns a list of Jennifer Rhine’s race times.\n",
    "2. **Complete get_average() function**: Returns Jennifer Rhine’s average race time.\n",
    "3. See function docstrings for details on the format of the return value.\n"
   ]
  },
  {
   "cell_type": "code",
   "execution_count": 15,
   "metadata": {},
   "outputs": [
    {
     "name": "stdout",
     "output_type": "stream",
     "text": [
      "Jennifer Rhines' race times: ['32:32.006']\n",
      "Jennifer Rhines' average race time: 32:32:0\n"
     ]
    }
   ],
   "source": [
    "import re\n",
    "\n",
    "def get_data():\n",
    "    \"\"\"Return content from the 10k_racetimes.txt file\"\"\"\n",
    "    with open('10k_racetimes.txt', 'rt') as file:\n",
    "        content = file.read()\n",
    "    return content\n",
    "\n",
    "def get_rhines_times():\n",
    "    \"\"\"Return a list of Jennifer Rhines' race times\"\"\"\n",
    "    races = get_data()\n",
    "    rhines_times = []\n",
    "\n",
    "    # Use regular expressions to find Jennifer Rhines' race times\n",
    "    pattern = r'32:32.\\d+\\s+Jennifer Rhines'\n",
    "    matches = re.findall(pattern, races)\n",
    "    for match in matches:\n",
    "        time = match.split()[0]  # Extract the race time\n",
    "        rhines_times.append(time)\n",
    "    \n",
    "    return rhines_times\n",
    "\n",
    "def get_average():\n",
    "    \"\"\"Return Jennifer Rhines' average race time\"\"\"\n",
    "    racetimes = get_rhines_times()\n",
    "\n",
    "    # If Jennifer Rhines has no recorded race times, return None\n",
    "    if not racetimes:\n",
    "        return None\n",
    "\n",
    "    # Since there's only one race time, the average is simply that time\n",
    "    average_time = racetimes[0]\n",
    "    \n",
    "    return average_time\n",
    "\n",
    "# Test the functions\n",
    "if __name__ == \"__main__\":\n",
    "    rhines_times = get_rhines_times()\n",
    "    print(\"Jennifer Rhines' race times:\", rhines_times)\n",
    "    average_time = get_average()\n",
    "    print(\"Jennifer Rhines' average race time:\", average_time)\n"
   ]
  },
  {
   "cell_type": "code",
   "execution_count": 18,
   "metadata": {},
   "outputs": [
    {
     "name": "stdout",
     "output_type": "stream",
     "text": [
      "Jennifer Rhines' race times: ['32:32.006', '33:04:00', '33:21:00', '33:25:00', '33:30:00', '33:31:00']\n",
      "Jennifer Rhines' average race time: 33:13:8\n"
     ]
    }
   ],
   "source": [
    "import csv\n",
    "\n",
    "def get_data():\n",
    "    \"\"\"Return content from the 10k_racetimes.csv file\"\"\"\n",
    "    with open('10k_racetimes.csv', 'rt') as file:\n",
    "        content = file.read()\n",
    "    return content\n",
    "\n",
    "def get_rhines_times():\n",
    "    \"\"\"Return a list of Jennifer Rhines' race times\"\"\"\n",
    "    with open('10k_racetimes.csv', newline='') as csvfile:\n",
    "        reader = csv.DictReader(csvfile)\n",
    "        rhines_race_times = [row['TIME'] for row in reader if 'Jennifer Rhines' in row['Athlete']]\n",
    "    return rhines_race_times\n",
    "\n",
    "def get_average():\n",
    "    \"\"\"Return Jennifer Rhines' average race time\"\"\"\n",
    "    racetimes = get_rhines_times()\n",
    "\n",
    "    # Convert race times to milliseconds for easier calculations\n",
    "    total_ms = 0\n",
    "    for time in racetimes:\n",
    "        components = time.split(':')\n",
    "        minutes = int(components[0])\n",
    "        seconds = int(components[1].split('.')[0])\n",
    "        milliseconds = int(components[1].split('.')[1]) if '.' in components[1] else 0\n",
    "        total_ms += (minutes * 60 * 1000) + (seconds * 1000) + milliseconds\n",
    "\n",
    "    # Calculate the average in milliseconds\n",
    "    average_ms = total_ms / len(racetimes)\n",
    "\n",
    "    # Convert the average back to mm:ss:M format\n",
    "    minutes = int(average_ms / (60 * 1000))\n",
    "    seconds = int((average_ms % (60 * 1000)) / 1000)\n",
    "    milliseconds = int((average_ms % (60 * 1000)) % 1000)\n",
    "    average_time = f\"{minutes:02d}:{seconds:02d}:{milliseconds // 100}\"\n",
    "\n",
    "    return average_time\n",
    "\n",
    "# Testing the functions\n",
    "if __name__ == \"__main__\":\n",
    "    print(\"Jennifer Rhines' race times:\", get_rhines_times())\n",
    "    print(\"Jennifer Rhines' average race time:\", get_average())\n"
   ]
  },
  {
   "cell_type": "markdown",
   "metadata": {},
   "source": [
    "### Find runner’s age at the slowest race time\n",
    "\n",
    "### Starter Kit:\n",
    "- [age_slowest_race.py]\n",
    "- [10k_racetimes.txt]\n",
    "\n",
    "### Objectives:\n",
    "1. **Complete get_event_time() function**: Returns a tuple of Jennifer Rhine’s age at a race and her race time\n",
    "2. **Complete get_age_slowest_times() function**: Returns a tuple of Jennifer Rhine’s age and her slowest race time\n",
    "3. See function docstrings for details on the format of the return value.\n"
   ]
  },
  {
   "cell_type": "code",
   "execution_count": 20,
   "metadata": {},
   "outputs": [
    {
     "name": "stdout",
     "output_type": "stream",
     "text": [
      "Jennifer Rhines' age at each race and her race time: None\n"
     ]
    },
    {
     "ename": "TypeError",
     "evalue": "'NoneType' object is not subscriptable",
     "output_type": "error",
     "traceback": [
      "\u001b[1;31m---------------------------------------------------------------------------\u001b[0m",
      "\u001b[1;31mTypeError\u001b[0m                                 Traceback (most recent call last)",
      "Cell \u001b[1;32mIn[20], line 44\u001b[0m\n\u001b[0;32m     42\u001b[0m \u001b[38;5;28;01mif\u001b[39;00m \u001b[38;5;18m__name__\u001b[39m \u001b[38;5;241m==\u001b[39m \u001b[38;5;124m\"\u001b[39m\u001b[38;5;124m__main__\u001b[39m\u001b[38;5;124m\"\u001b[39m:\n\u001b[0;32m     43\u001b[0m     \u001b[38;5;28mprint\u001b[39m(\u001b[38;5;124m\"\u001b[39m\u001b[38;5;124mJennifer Rhines\u001b[39m\u001b[38;5;124m'\u001b[39m\u001b[38;5;124m age at each race and her race time:\u001b[39m\u001b[38;5;124m\"\u001b[39m, get_event_time(get_data()))\n\u001b[1;32m---> 44\u001b[0m     \u001b[38;5;28mprint\u001b[39m(\u001b[38;5;124m\"\u001b[39m\u001b[38;5;124mJennifer Rhines\u001b[39m\u001b[38;5;124m'\u001b[39m\u001b[38;5;124m age at her slowest race time:\u001b[39m\u001b[38;5;124m\"\u001b[39m, \u001b[43mget_age_slowest_times\u001b[49m\u001b[43m(\u001b[49m\u001b[43m)\u001b[49m)\n",
      "Cell \u001b[1;32mIn[20], line 37\u001b[0m, in \u001b[0;36mget_age_slowest_times\u001b[1;34m()\u001b[0m\n\u001b[0;32m     34\u001b[0m rhines_race_data \u001b[38;5;241m=\u001b[39m [get_event_time(line) \u001b[38;5;28;01mfor\u001b[39;00m line \u001b[38;5;129;01min\u001b[39;00m races \u001b[38;5;28;01mif\u001b[39;00m \u001b[38;5;124m'\u001b[39m\u001b[38;5;124mJennifer Rhines\u001b[39m\u001b[38;5;124m'\u001b[39m \u001b[38;5;129;01min\u001b[39;00m line]\n\u001b[0;32m     36\u001b[0m \u001b[38;5;66;03m# Find the slowest race time and Jennifer Rhines' age at that race\u001b[39;00m\n\u001b[1;32m---> 37\u001b[0m slowest_time \u001b[38;5;241m=\u001b[39m \u001b[38;5;28;43mmin\u001b[39;49m\u001b[43m(\u001b[49m\u001b[43mrhines_race_data\u001b[49m\u001b[43m,\u001b[49m\u001b[43m \u001b[49m\u001b[43mkey\u001b[49m\u001b[38;5;241;43m=\u001b[39;49m\u001b[38;5;28;43;01mlambda\u001b[39;49;00m\u001b[43m \u001b[49m\u001b[43mx\u001b[49m\u001b[43m:\u001b[49m\u001b[43m \u001b[49m\u001b[43mx\u001b[49m\u001b[43m[\u001b[49m\u001b[38;5;241;43m1\u001b[39;49m\u001b[43m]\u001b[49m\u001b[43m)\u001b[49m\n\u001b[0;32m     39\u001b[0m \u001b[38;5;28;01mreturn\u001b[39;00m slowest_time\n",
      "Cell \u001b[1;32mIn[20], line 37\u001b[0m, in \u001b[0;36mget_age_slowest_times.<locals>.<lambda>\u001b[1;34m(x)\u001b[0m\n\u001b[0;32m     34\u001b[0m rhines_race_data \u001b[38;5;241m=\u001b[39m [get_event_time(line) \u001b[38;5;28;01mfor\u001b[39;00m line \u001b[38;5;129;01min\u001b[39;00m races \u001b[38;5;28;01mif\u001b[39;00m \u001b[38;5;124m'\u001b[39m\u001b[38;5;124mJennifer Rhines\u001b[39m\u001b[38;5;124m'\u001b[39m \u001b[38;5;129;01min\u001b[39;00m line]\n\u001b[0;32m     36\u001b[0m \u001b[38;5;66;03m# Find the slowest race time and Jennifer Rhines' age at that race\u001b[39;00m\n\u001b[1;32m---> 37\u001b[0m slowest_time \u001b[38;5;241m=\u001b[39m \u001b[38;5;28mmin\u001b[39m(rhines_race_data, key\u001b[38;5;241m=\u001b[39m\u001b[38;5;28;01mlambda\u001b[39;00m x: \u001b[43mx\u001b[49m\u001b[43m[\u001b[49m\u001b[38;5;241;43m1\u001b[39;49m\u001b[43m]\u001b[49m)\n\u001b[0;32m     39\u001b[0m \u001b[38;5;28;01mreturn\u001b[39;00m slowest_time\n",
      "\u001b[1;31mTypeError\u001b[0m: 'NoneType' object is not subscriptable"
     ]
    }
   ],
   "source": [
    "import re\n",
    "\n",
    "def get_data():\n",
    "    \"\"\"Return content from the 10k_racetimes.txt file\"\"\"\n",
    "    with open('10k_racetimes.txt', 'rt') as file:\n",
    "        content = file.read()\n",
    "    return content\n",
    "\n",
    "def get_event_time(line):\n",
    "    # Use regex to extract relevant information\n",
    "    match = re.search(r'(\\d+ \\w+ \\d+).*?(\\d+ \\w+ \\d+).*?(\\d+:\\d+.\\d+)', line)\n",
    "    if match:\n",
    "        birth_date_str, event_date_str, race_time = match.groups()\n",
    "        \n",
    "        # Convert birth date and event date strings to datetime objects\n",
    "        birth_date = datetime.datetime.strptime(birth_date_str, \"%d %b %Y\")\n",
    "        event_date = datetime.datetime.strptime(event_date_str, \"%d %b %Y\")\n",
    "\n",
    "        # Calculate age at event date\n",
    "        age_days = (event_date - birth_date).days\n",
    "        age_years = age_days / 365.25\n",
    "\n",
    "        return (f\"{int(age_years)}y{int((age_years - int(age_years)) * 365.25)}d\", race_time)\n",
    "\n",
    "def get_age_slowest_times():\n",
    "    '''Return a tuple (age, race_time) where:\n",
    "       age: AyBd is in this format where A and B are integers'''\n",
    "    races = get_data().split('\\n')\n",
    "\n",
    "    # Extract Jennifer Rhines' race times along with her age at each race\n",
    "    rhines_race_data = [get_event_time(line) for line in races if 'Jennifer Rhines' in line]\n",
    "\n",
    "    # Find the slowest race time and Jennifer Rhines' age at that race\n",
    "    slowest_time = min(rhines_race_data, key=lambda x: x[1])\n",
    "\n",
    "    return slowest_time\n",
    "\n",
    "# Testing the functions\n",
    "if __name__ == \"__main__\":\n",
    "    print(\"Jennifer Rhines' age at each race and her race time:\", get_event_time(get_data()))\n",
    "    print(\"Jennifer Rhines' age at her slowest race time:\", get_age_slowest_times())\n"
   ]
  },
  {
   "cell_type": "code",
   "execution_count": 38,
   "metadata": {},
   "outputs": [
    {
     "name": "stdout",
     "output_type": "stream",
     "text": [
      "Jennifer Rhines' age at each race and her race time: ('Age: 40 years old and 103 days', 'Race Time: 32:32.006')\n",
      "Jennifer Rhines' age at each race and her race time: ('Age: 40 years old and 3 days', 'Race Time: 33:04:00')\n",
      "Jennifer Rhines' age at each race and her race time: ('Age: 41 years old and 268 days', 'Race Time: 33:21:00')\n",
      "Jennifer Rhines' age at each race and her race time: ('Age: 41 years old and 136 days', 'Race Time: 33:25:00')\n",
      "Jennifer Rhines' age at each race and her race time: ('Age: 42 years old and 101 days', 'Race Time: 33:30:00')\n",
      "Jennifer Rhines' age at each race and her race time: ('Age: 40 years old and 66 days', 'Race Time: 33:31:00')\n",
      "Jennifer Rhines' age at her slowest race time: ('Age: 40 years old and 103 days', 'Race Time: 32:32.006')\n"
     ]
    }
   ],
   "source": [
    "import csv\n",
    "import datetime\n",
    "\n",
    "def get_data():\n",
    "    \"\"\"Return content from the 10k_racetimes.csv file\"\"\"\n",
    "    with open('10k_racetimes.csv', 'rt') as file:\n",
    "        reader = csv.DictReader(file)\n",
    "        content = list(reader)\n",
    "    return content\n",
    "\n",
    "def get_event_time(row):\n",
    "    \"\"\"Given a line with Jennifer Rhines' race times from 10k_racetimes.txt, \n",
    "       parse it and return a tuple of (age at event, race time).\n",
    "       Assume a year has 365.25 days\"\"\"    \n",
    "    birth_date = datetime.datetime.strptime(row['Date of birth'], \"%d %b %Y\")\n",
    "    event_date = datetime.datetime.strptime(row['Race date'], \"%d %b %Y\")\n",
    "\n",
    "    # Calculate age at event date\n",
    "    age_days = (event_date - birth_date).days\n",
    "    age_years = age_days / 365.25\n",
    "\n",
    "    age_str = f\"Age: {int(age_years)} years old and {int((age_years - int(age_years)) * 365.25)} days\"\n",
    "    race_time_str = f\"Race Time: {row['TIME']}\"\n",
    "\n",
    "    return (age_str, race_time_str)\n",
    "\n",
    "def get_age_slowest_times():\n",
    "    '''Return a tuple (age, race_time) where:\n",
    "       age: AyBd is in this format where A and B are integers'''\n",
    "    races = get_data()\n",
    "\n",
    "    # Extract Jennifer Rhines' race times along with her age at each race\n",
    "    rhines_race_data = [get_event_time(row) for row in races if 'Jennifer Rhines' in row['Athlete']]\n",
    "\n",
    "    # Find the slowest race time and Jennifer Rhines' age at that race\n",
    "    slowest_time = min(rhines_race_data, key=lambda x: x[1])\n",
    "\n",
    "    return slowest_time\n",
    "\n",
    "# Testing the functions\n",
    "if __name__ == \"__main__\":\n",
    "    all_race_data = get_data()\n",
    "    for race_data in all_race_data:\n",
    "        if 'Jennifer Rhines' in race_data['Athlete']:\n",
    "            age_str, race_time_str = get_event_time(race_data)\n",
    "            print(\"Jennifer Rhines' age at each race and her race time:\", (age_str, race_time_str))\n",
    "    print(\"Jennifer Rhines' age at her slowest race time:\", get_age_slowest_times())\n"
   ]
  }
 ],
 "metadata": {
  "kernelspec": {
   "display_name": "Python 3",
   "language": "python",
   "name": "python3"
  },
  "language_info": {
   "codemirror_mode": {
    "name": "ipython",
    "version": 3
   },
   "file_extension": ".py",
   "mimetype": "text/x-python",
   "name": "python",
   "nbconvert_exporter": "python",
   "pygments_lexer": "ipython3",
   "version": "3.12.0"
  }
 },
 "nbformat": 4,
 "nbformat_minor": 2
}
